{
  "nbformat": 4,
  "nbformat_minor": 0,
  "metadata": {
    "kernelspec": {
      "display_name": "Python 3",
      "language": "python",
      "name": "python3"
    },
    "language_info": {
      "codemirror_mode": {
        "name": "ipython",
        "version": 3
      },
      "file_extension": ".py",
      "mimetype": "text/x-python",
      "name": "python",
      "nbconvert_exporter": "python",
      "pygments_lexer": "ipython3",
      "version": "3.5.6"
    },
    "colab": {
      "name": "NLP100Knocks 00-09.ipynb",
      "provenance": [],
      "collapsed_sections": [],
      "toc_visible": true,
      "include_colab_link": true
    }
  },
  "cells": [
    {
      "cell_type": "markdown",
      "metadata": {
        "id": "view-in-github",
        "colab_type": "text"
      },
      "source": [
        "<a href=\"https://colab.research.google.com/github/yuhchian/nlp100knocks/blob/master/NLP100Knocks_00_09.ipynb\" target=\"_parent\"><img src=\"https://colab.research.google.com/assets/colab-badge.svg\" alt=\"Open In Colab\"/></a>"
      ]
    },
    {
      "cell_type": "markdown",
      "metadata": {
        "id": "TqMwekw4vS5b",
        "colab_type": "text"
      },
      "source": [
        "# 第1章: 準備運動\n",
        "\n",
        "Questions created by Ookazaki-sensei (See http://www.cl.ecei.tohoku.ac.jp/nlp100/).\n",
        "\n",
        "Attempted by Yuh Chian"
      ]
    },
    {
      "cell_type": "markdown",
      "metadata": {
        "id": "mQx_U3EivS5h",
        "colab_type": "text"
      },
      "source": [
        "## 00. 文字列の逆順\n",
        "文字列\"stressed\"の文字を逆に（末尾から先頭に向かって）並べた文字列を得よ．"
      ]
    },
    {
      "cell_type": "code",
      "metadata": {
        "id": "1THA8ZM1vS5m",
        "colab_type": "code",
        "outputId": "5a7b4bb6-d481-4ea3-b537-f6b422649e72",
        "colab": {
          "base_uri": "https://localhost:8080/",
          "height": 34
        }
      },
      "source": [
        "input00 = \"stressed\"\n",
        "print(input00[::-1])        # the -1 parameter prints the characters of the string in reverse order"
      ],
      "execution_count": 94,
      "outputs": [
        {
          "output_type": "stream",
          "text": [
            "desserts\n"
          ],
          "name": "stdout"
        }
      ]
    },
    {
      "cell_type": "markdown",
      "metadata": {
        "id": "cxmanx14vS53",
        "colab_type": "text"
      },
      "source": [
        "## 01. 「パタトクカシーー」\n",
        "「パタトクカシーー」という文字列の1,3,5,7文字目を取り出して連結した文字列を得よ．"
      ]
    },
    {
      "cell_type": "code",
      "metadata": {
        "id": "YaeGZSdUvS57",
        "colab_type": "code",
        "outputId": "e91589df-e7e2-481f-da72-0cea0c22a28a",
        "colab": {
          "base_uri": "https://localhost:8080/",
          "height": 34
        }
      },
      "source": [
        "input01 = \"パタトクカシーー\"\n",
        "print(input01[::2])         # the 2 parameter prints every other character"
      ],
      "execution_count": 95,
      "outputs": [
        {
          "output_type": "stream",
          "text": [
            "パトカー\n"
          ],
          "name": "stdout"
        }
      ]
    },
    {
      "cell_type": "markdown",
      "metadata": {
        "id": "cDgCpx4evS6F",
        "colab_type": "text"
      },
      "source": [
        "## 02. 「パトカー」＋「タクシー」＝「パタトクカシーー」\n",
        "「パトカー」＋「タクシー」の文字を先頭から交互に連結して文字列「パタトクカシーー」を得よ．"
      ]
    },
    {
      "cell_type": "code",
      "metadata": {
        "id": "pUE8iNhQvS6I",
        "colab_type": "code",
        "outputId": "958ecc29-9994-4afa-c83a-3187fa99217b",
        "colab": {
          "base_uri": "https://localhost:8080/",
          "height": 51
        }
      },
      "source": [
        "input02a = \"パトカー\"\n",
        "input02b = \"タクシー\"\n",
        "\n",
        "assert len(input02a) == len(input02b)\n",
        "output02 = \"\"\n",
        "for _ in range(len(input02a)):                                                  # First way: iterate over a range\n",
        "    output02 = output02 + input02a[_] + input02b[_]\n",
        "print(output02)\n",
        "\n",
        "print(*[input02a[_] + input02b[_] for _ in range(len(input02a))], sep = '')     # Second way: list comprehension"
      ],
      "execution_count": 96,
      "outputs": [
        {
          "output_type": "stream",
          "text": [
            "パタトクカシーー\n",
            "パタトクカシーー\n"
          ],
          "name": "stdout"
        }
      ]
    },
    {
      "cell_type": "markdown",
      "metadata": {
        "id": "N0nq-VUevS6R",
        "colab_type": "text"
      },
      "source": [
        "## 03. 円周率\n",
        "\"Now I need a drink, alcoholic of course, after the heavy lectures involving quantum mechanics.\"という文を単語に分解し，各単語の（アルファベットの）文字数を先頭から出現順に並べたリストを作成せよ．"
      ]
    },
    {
      "cell_type": "code",
      "metadata": {
        "id": "LT0bYKNTvS6T",
        "colab_type": "code",
        "outputId": "5e335e10-cda7-4dce-eb1f-350d253fbdd2",
        "colab": {
          "base_uri": "https://localhost:8080/",
          "height": 34
        }
      },
      "source": [
        "input03 = \"Now I need a drink, alcoholic of course, after the heavy lectures involving quantum mechanics.\"\n",
        "split03 = input03.split()                     # split the string (default split on ' ')\n",
        "strip03 = [_.strip('.,') for _ in split03]    # remove the punctuation\n",
        "output03 = [len(_) for _ in split03]          # extract the length\n",
        "print(*output03, sep=\"\")                      # the star expression unpacks the list "
      ],
      "execution_count": 97,
      "outputs": [
        {
          "output_type": "stream",
          "text": [
            "3141692753589710\n"
          ],
          "name": "stdout"
        }
      ]
    },
    {
      "cell_type": "markdown",
      "metadata": {
        "id": "gVAD5KQkvS6k",
        "colab_type": "text"
      },
      "source": [
        "## 04. 元素記号\n",
        "\"Hi He Lied Because Boron Could Not Oxidize Fluorine. New Nations Might Also Sign Peace Security Clause. Arthur King Can.\"という文を単語に分解し，1, 5, 6, 7, 8, 9, 15, 16, 19番目の単語は先頭の1文字，それ以外の単語は先頭に2文字を取り出し，取り出した文字列から単語の位置（先頭から何番目の単語か）への連想配列（辞書型もしくはマップ型）を作成せよ．"
      ]
    },
    {
      "cell_type": "code",
      "metadata": {
        "id": "8-XtOKj-vS6m",
        "colab_type": "code",
        "outputId": "bac3594d-d420-4e8f-c9f4-d63ffc44a63a",
        "colab": {
          "base_uri": "https://localhost:8080/",
          "height": 34
        }
      },
      "source": [
        "input04a = \"Hi He Lied Because Boron Could Not Oxidize Fluorine. New Nations Might Also Sign Peace Security Clause. Arthur King Can.\"\n",
        "input04b = [1, 5, 6, 7, 8, 9, 15, 16, 19]\n",
        "\n",
        "output04 = {}\n",
        "input04a = input04a.split()                   # split the string\n",
        "for _ in input04b:                            # using numbers as keys, save initial 2 letters as values\n",
        "    output04[_ + 1] = input04a[_][:2]\n",
        "print(output04)"
      ],
      "execution_count": 98,
      "outputs": [
        {
          "output_type": "stream",
          "text": [
            "{2: 'He', 6: 'Co', 7: 'No', 8: 'Ox', 9: 'Fl', 10: 'Ne', 16: 'Se', 17: 'Cl', 20: 'Ca'}\n"
          ],
          "name": "stdout"
        }
      ]
    },
    {
      "cell_type": "markdown",
      "metadata": {
        "id": "MVuIobGnvS6v",
        "colab_type": "text"
      },
      "source": [
        "## 05. n-gram\n",
        "与えられたシーケンス（文字列やリストなど）からn-gramを作る関数を作成せよ．この関数を用い，\"I am an NLPer\"という文から単語bi-gram，文字bi-gramを得よ．"
      ]
    },
    {
      "cell_type": "code",
      "metadata": {
        "id": "MSkO0hZlvS6z",
        "colab_type": "code",
        "outputId": "029f99d7-5351-41fc-b18d-bf9b9871e56d",
        "colab": {
          "base_uri": "https://localhost:8080/",
          "height": 51
        }
      },
      "source": [
        "# Assuming spaces count\n",
        "input05 = \"I am an NLPer\"\n",
        "\n",
        "# define function\n",
        "def ngram(n, s, mode='letter'):\n",
        "    '''\n",
        "    Returns a list of n-grams\n",
        "    ----------\n",
        "    n       : width of n-gram (dtype = int)\n",
        "    s       : string for parsing\n",
        "    mode    : valid input are 'letter' or 'word' only\n",
        "    '''\n",
        "    if mode == 'letter':\n",
        "        s = list(s)\n",
        "        gap = ''\n",
        "    elif mode == 'word':\n",
        "        s = s.split()\n",
        "        gap = ' '\n",
        "    else:\n",
        "        raise Exception(\"Choose from either 'letter' or 'word' mode.\")\n",
        "    output05 = []\n",
        "    for _ in range(len(s)-n+1):\n",
        "        output05.append(gap.join(s[_:_+n]))\n",
        "    return output05\n",
        "\n",
        "print(\"n=2, mode='word',   returns: \", ngram(2, input05, mode='word'))\n",
        "print(\"n=2, mode='letter', returns: \", ngram(2, input05, mode=\"letter\"))"
      ],
      "execution_count": 99,
      "outputs": [
        {
          "output_type": "stream",
          "text": [
            "n=2, mode='word',   returns:  ['I am', 'am an', 'an NLPer']\n",
            "n=2, mode='letter', returns:  ['I ', ' a', 'am', 'm ', ' a', 'an', 'n ', ' N', 'NL', 'LP', 'Pe', 'er']\n"
          ],
          "name": "stdout"
        }
      ]
    },
    {
      "cell_type": "markdown",
      "metadata": {
        "id": "-spW8gbevS64",
        "colab_type": "text"
      },
      "source": [
        "## 06. 集合\n",
        "\"paraparaparadise\"と\"paragraph\"に含まれる文字bi-gramの集合を，それぞれ, XとYとして求め，XとYの和集合，積集合，差集合を求めよ．さらに，'se'というbi-gramがXおよびYに含まれるかどうかを調べよ．"
      ]
    },
    {
      "cell_type": "code",
      "metadata": {
        "id": "-NK8LwAVvS66",
        "colab_type": "code",
        "outputId": "f781f70a-6beb-4255-c93b-ec50bcbd9457",
        "colab": {
          "base_uri": "https://localhost:8080/",
          "height": 85
        }
      },
      "source": [
        "input06a = \"paraparaparadise\"\n",
        "input06b = \"paragraph\"\n",
        "\n",
        "bigram06a = set(ngram(2, input06a, mode='letter'))          # Take note that you cannot make Sets out of elements that are lists\n",
        "bigram06b = set(ngram(2, input06b, mode='letter'))\n",
        "\n",
        "union = []\n",
        "difference = []\n",
        "\n",
        "print(\"Intersection          :\", bigram06a & bigram06b)\n",
        "print(\"Union                 :\", bigram06a | bigram06b)\n",
        "print(\"Symmetric difference  :\", bigram06a ^ bigram06b)\n",
        "\n",
        "print(\"'se' exists in X or Y :\", 'se' in bigram06a | bigram06b)"
      ],
      "execution_count": 100,
      "outputs": [
        {
          "output_type": "stream",
          "text": [
            "Intersection          : {'ap', 'pa', 'ar', 'ra'}\n",
            "Union                 : {'ag', 'se', 'ap', 'ra', 'ph', 'gr', 'is', 'di', 'ad', 'ar', 'pa'}\n",
            "Symmetric difference  : {'ag', 'di', 'se', 'ad', 'ph', 'gr', 'is'}\n",
            "'se' exists in X or Y : True\n"
          ],
          "name": "stdout"
        }
      ]
    },
    {
      "cell_type": "markdown",
      "metadata": {
        "id": "v2NmbVnkvS7B",
        "colab_type": "text"
      },
      "source": [
        "## 07. テンプレートによる文生成\n",
        "引数x, y, zを受け取り「x時のyはz」という文字列を返す関数を実装せよ．さらに，x=12, y=\"気温\", z=22.4として，実行結果を確認せよ．"
      ]
    },
    {
      "cell_type": "code",
      "metadata": {
        "id": "YW38QRg2vS7D",
        "colab_type": "code",
        "colab": {
          "base_uri": "https://localhost:8080/",
          "height": 68
        },
        "outputId": "5f457f70-cbc2-4452-bc31-7fcc68807c99"
      },
      "source": [
        "# formatted string literals, must add 'f' or 'F' in front\n",
        "def output07a(x, y, z):\n",
        "    return f\"{x}時の{y}は{z}\"\n",
        "\n",
        "# str.format method\n",
        "def output07b(x, y, z):\n",
        "    return \"{}時の{}は{}\".format(x, y, z)\n",
        "\n",
        "# printf style formatting, which is more or less defunct\n",
        "def output07c(x, y, z):\n",
        "    return \"%(0)s時の%(1)sは%(2).1f\"%{'0': x, '1': y, '2':z}\n",
        "\n",
        "x=12\n",
        "y=\"気温\"\n",
        "z=22.4\n",
        "\n",
        "print(output07a(x, y, z))\n",
        "print(output07b(x, y, z))\n",
        "print(output07c(x, y, z))"
      ],
      "execution_count": 101,
      "outputs": [
        {
          "output_type": "stream",
          "text": [
            "12時の気温は22.4\n",
            "12時の気温は22.4\n",
            "12時の気温は22.4\n"
          ],
          "name": "stdout"
        }
      ]
    },
    {
      "cell_type": "markdown",
      "metadata": {
        "id": "O8YkcBF0vS7K",
        "colab_type": "text"
      },
      "source": [
        "## 08. 暗号文\n",
        "与えられた文字列の各文字を，以下の仕様で変換する関数cipherを実装せよ．\n",
        "\n",
        "英小文字ならば(219 - 文字コード)の文字に置換\n",
        "その他の文字はそのまま出力\n",
        "この関数を用い，英語のメッセージを暗号化・復号化せよ．"
      ]
    },
    {
      "cell_type": "code",
      "metadata": {
        "id": "q3cCrd6zvS7L",
        "colab_type": "code",
        "colab": {
          "base_uri": "https://localhost:8080/",
          "height": 34
        },
        "outputId": "3554ece7-098e-461d-ccbf-fa6dfe4f8f7e"
      },
      "source": [
        "# Encoding\n",
        "def encode_decode(word):\n",
        "    output = \"\"\n",
        "    for char in word:\n",
        "        output += chr(219 - ord(char))\n",
        "    return output\n",
        "\n",
        "print( encode_decode(\"happy\") , encode_decode(\"szkkb\") )"
      ],
      "execution_count": 102,
      "outputs": [
        {
          "output_type": "stream",
          "text": [
            "szkkb happy\n"
          ],
          "name": "stdout"
        }
      ]
    },
    {
      "cell_type": "markdown",
      "metadata": {
        "id": "Y3Cop99ZvS7R",
        "colab_type": "text"
      },
      "source": [
        "## 09. Typoglycemia\n",
        "スペースで区切られた単語列に対して，各単語の先頭と末尾の文字は残し，それ以外の文字の順序をランダムに並び替えるプログラムを作成せよ．ただし，長さが４以下の単語は並び替えないこととする．適当な英語の文（例えば\"I couldn't believe that I could actually understand what I was reading : the phenomenal power of the human mind .\"）を与え，その実行結果を確認せよ．"
      ]
    },
    {
      "cell_type": "code",
      "metadata": {
        "id": "4LREXCHyvS7S",
        "colab_type": "code",
        "colab": {
          "base_uri": "https://localhost:8080/",
          "height": 54
        },
        "outputId": "3662320c-46f2-4f3e-e009-693287f02336"
      },
      "source": [
        "import random\n",
        "\n",
        "input09 = \"I couldn't believe that I could actually understand what I was reading : the phenomenal power of the human mind .\"\n",
        "s_list = input09.split(' ')\n",
        "\n",
        "# Declare two lists to hold words taken out\n",
        "taken = []\n",
        "words = []\n",
        "\n",
        "# Copy words longer than 4, and their corresponding positions\n",
        "for pos in range(len(s_list)):\n",
        "    if len(s_list[pos]) > 4:\n",
        "        words.append(s_list[pos])\n",
        "        taken.append(pos)\n",
        "\n",
        "# Shuffle the extracted word list randomly\n",
        "random.seed(11)\n",
        "random.shuffle(words)\n",
        "\n",
        "# Replace shuffled words in previously specified positions\n",
        "for pos in taken:\n",
        "    s_list[pos] = words.pop()\n",
        "print(' '.join(s_list))"
      ],
      "execution_count": 103,
      "outputs": [
        {
          "output_type": "stream",
          "text": [
            "I power human that I actually understand reading what I was believe : the couldn't phenomenal of the could mind .\n"
          ],
          "name": "stdout"
        }
      ]
    },
    {
      "cell_type": "code",
      "metadata": {
        "id": "GyKYjJX9jyVd",
        "colab_type": "code",
        "colab": {}
      },
      "source": [
        ""
      ],
      "execution_count": 0,
      "outputs": []
    }
  ]
}
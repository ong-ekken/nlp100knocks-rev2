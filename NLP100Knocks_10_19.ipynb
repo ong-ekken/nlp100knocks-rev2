{
  "nbformat": 4,
  "nbformat_minor": 0,
  "metadata": {
    "kernelspec": {
      "display_name": "Python 3",
      "language": "python",
      "name": "python3"
    },
    "language_info": {
      "codemirror_mode": {
        "name": "ipython",
        "version": 3
      },
      "file_extension": ".py",
      "mimetype": "text/x-python",
      "name": "python",
      "nbconvert_exporter": "python",
      "pygments_lexer": "ipython3",
      "version": "3.5.6"
    },
    "colab": {
      "name": "NLP100Knocks 10-19.ipynb",
      "provenance": [],
      "collapsed_sections": [],
      "include_colab_link": true
    }
  },
  "cells": [
    {
      "cell_type": "markdown",
      "metadata": {
        "id": "view-in-github",
        "colab_type": "text"
      },
      "source": [
        "<a href=\"https://colab.research.google.com/github/yuhchian/nlp100knocks/blob/master/NLP100Knocks_10_19.ipynb\" target=\"_parent\"><img src=\"https://colab.research.google.com/assets/colab-badge.svg\" alt=\"Open In Colab\"/></a>"
      ]
    },
    {
      "cell_type": "markdown",
      "metadata": {
        "id": "TqMwekw4vS5b",
        "colab_type": "text"
      },
      "source": [
        "# 第2章: UNIXコマンドの基礎\n",
        "\n",
        "Questions created by Ookazaki-sensei (See http://www.cl.ecei.tohoku.ac.jp/nlp100/)\n",
        "\n",
        "Attempted by Yuh Chian\n",
        "\n",
        "[hightemp.txt](http://www.cl.ecei.tohoku.ac.jp/nlp100/data/hightemp.txt)は，日本の最高気温の記録を「都道府県」「地点」「℃」「日」のタブ区切り形式で格納したファイルである．以下の処理を行うプログラムを作成し，[hightemp.txt](http://www.cl.ecei.tohoku.ac.jp/nlp100/data/hightemp.txt)を入力ファイルとして実行せよ．さらに，同様の処理をUNIXコマンドでも実行し，プログラムの実行結果を確認せよ．"
      ]
    },
    {
      "cell_type": "markdown",
      "metadata": {
        "id": "mQx_U3EivS5h",
        "colab_type": "text"
      },
      "source": [
        "## 10. 行数のカウント\n",
        "行数をカウントせよ．確認にはwcコマンドを用いよ．"
      ]
    },
    {
      "cell_type": "code",
      "metadata": {
        "id": "1THA8ZM1vS5m",
        "colab_type": "code",
        "colab": {}
      },
      "source": [
        "bash-3.2$ wc -l hightemp.txt\n",
        "      24 hightemp.txt"
      ],
      "execution_count": 0,
      "outputs": []
    },
    {
      "cell_type": "markdown",
      "metadata": {
        "id": "cxmanx14vS53",
        "colab_type": "text"
      },
      "source": [
        "## 11. タブをスペースに置換\n",
        "タブ1文字につきスペース1文字に置換せよ．確認にはsedコマンド，trコマンド，もしくはexpandコマンドを用いよ．"
      ]
    },
    {
      "cell_type": "code",
      "metadata": {
        "id": "YaeGZSdUvS57",
        "colab_type": "code",
        "colab": {}
      },
      "source": [
        "bash-3.2$ \n",
        "bash-3.2$ \n",
        "bash-3.2$ expand -t 1 hightemp.txt > hightemp_c.txt"
      ],
      "execution_count": 0,
      "outputs": []
    },
    {
      "cell_type": "markdown",
      "metadata": {
        "id": "cDgCpx4evS6F",
        "colab_type": "text"
      },
      "source": [
        "## 12. 1列目をcol1.txtに，2列目をcol2.txtに保存\n",
        "各行の1列目だけを抜き出したものをcol1.txtに，2列目だけを抜き出したものをcol2.txtとしてファイルに保存せよ．確認にはcutコマンドを用いよ．"
      ]
    },
    {
      "cell_type": "code",
      "metadata": {
        "id": "pUE8iNhQvS6I",
        "colab_type": "code",
        "colab": {}
      },
      "source": [
        "bash-3.2$ cut -f 1 hightemp.txt > col1.txt\n",
        "bash-3.2$ cut -f 2 hightemp.txt > col2.txt"
      ],
      "execution_count": 0,
      "outputs": []
    },
    {
      "cell_type": "markdown",
      "metadata": {
        "id": "N0nq-VUevS6R",
        "colab_type": "text"
      },
      "source": [
        "## 13. col1.txtとcol2.txtをマージ\n",
        "12で作ったcol1.txtとcol2.txtを結合し，元のファイルの1列目と2列目をタブ区切りで並べたテキストファイルを作成せよ．確認にはpasteコマンドを用いよ．"
      ]
    },
    {
      "cell_type": "code",
      "metadata": {
        "id": "LT0bYKNTvS6T",
        "colab_type": "code",
        "colab": {}
      },
      "source": [
        "bash-3.2$ paste col1.txt col2.txt > pasted.txt"
      ],
      "execution_count": 0,
      "outputs": []
    },
    {
      "cell_type": "markdown",
      "metadata": {
        "id": "gVAD5KQkvS6k",
        "colab_type": "text"
      },
      "source": [
        "## 14. 先頭からN行を出力\n",
        "自然数Nをコマンドライン引数などの手段で受け取り，入力のうち先頭のN行だけを表示せよ．確認にはheadコマンドを用いよ．"
      ]
    },
    {
      "cell_type": "code",
      "metadata": {
        "id": "8-XtOKj-vS6m",
        "colab_type": "code",
        "colab": {}
      },
      "source": [
        "bash-3.2$ head -n 5 hightemp.txt"
      ],
      "execution_count": 0,
      "outputs": []
    },
    {
      "cell_type": "markdown",
      "metadata": {
        "id": "MVuIobGnvS6v",
        "colab_type": "text"
      },
      "source": [
        "## 15. 末尾のN行を出力\n",
        "自然数Nをコマンドライン引数などの手段で受け取り，入力のうち末尾のN行だけを表示せよ．確認にはtailコマンドを用いよ．"
      ]
    },
    {
      "cell_type": "code",
      "metadata": {
        "id": "MSkO0hZlvS6z",
        "colab_type": "code",
        "colab": {}
      },
      "source": [
        "bash-3.2$ tail -n 5 hightemp.txt"
      ],
      "execution_count": 0,
      "outputs": []
    },
    {
      "cell_type": "markdown",
      "metadata": {
        "id": "-spW8gbevS64",
        "colab_type": "text"
      },
      "source": [
        "## 16. ファイルをN分割する\n",
        "自然数Nをコマンドライン引数などの手段で受け取り，入力のファイルを行単位でN分割せよ．同様の処理をsplitコマンドで実現せよ．"
      ]
    },
    {
      "cell_type": "code",
      "metadata": {
        "id": "-NK8LwAVvS66",
        "colab_type": "code",
        "colab": {}
      },
      "source": [
        "bash-3.2$ n=15\n",
        "bash-3.2$ split -l $n hightemp.txt new_\n",
        "bash-3.2$ ls new_*\n",
        "new_aa\tnew_ab  new_ac"
      ],
      "execution_count": 0,
      "outputs": []
    },
    {
      "cell_type": "markdown",
      "metadata": {
        "id": "v2NmbVnkvS7B",
        "colab_type": "text"
      },
      "source": [
        "## 17. １列目の文字列の異なり\n",
        "1列目の文字列の種類（異なる文字列の集合）を求めよ．確認にはsort, uniqコマンドを用いよ．"
      ]
    },
    {
      "cell_type": "code",
      "metadata": {
        "id": "YW38QRg2vS7D",
        "colab_type": "code",
        "colab": {}
      },
      "source": [
        "bash-3.2$ sort col1.txt | uniq"
      ],
      "execution_count": 0,
      "outputs": []
    },
    {
      "cell_type": "markdown",
      "metadata": {
        "id": "O8YkcBF0vS7K",
        "colab_type": "text"
      },
      "source": [
        "## 18. 各行を3コラム目の数値の降順にソート\n",
        "各行を3コラム目の数値の逆順で整列せよ（注意: 各行の内容は変更せずに並び替えよ）．確認にはsortコマンドを用いよ（この問題はコマンドで実行した時の結果と合わなくてもよい）．"
      ]
    },
    {
      "cell_type": "code",
      "metadata": {
        "id": "q3cCrd6zvS7L",
        "colab_type": "code",
        "colab": {}
      },
      "source": [
        "bash-3.2$ sort hightemp.txt -k 4"
      ],
      "execution_count": 0,
      "outputs": []
    },
    {
      "cell_type": "markdown",
      "metadata": {
        "id": "Y3Cop99ZvS7R",
        "colab_type": "text"
      },
      "source": [
        "## 19. 各行の1コラム目の文字列の出現頻度を求め，出現頻度の高い順に並べる\n",
        "各行の1列目の文字列の出現頻度を求め，その高い順に並べて表示せよ．確認にはcut, uniq, sortコマンドを用いよ．"
      ]
    },
    {
      "cell_type": "code",
      "metadata": {
        "id": "4LREXCHyvS7S",
        "colab_type": "code",
        "colab": {}
      },
      "source": [
        "bash-3.2$ cut -f 1 hightemp.txt | sort | uniq -c | sort -r -k 1 \n",
        "   3 群馬県\n",
        "   3 山梨県\n",
        "   3 山形県\n",
        "   3 埼玉県\n",
        "   2 静岡県\n",
        "   2 愛知県\n",
        "   2 岐阜県\n",
        "   2 千葉県\n",
        "   1 高知県\n",
        "   1 愛媛県\n",
        "   1 大阪府\n",
        "   1 和歌山県"
      ],
      "execution_count": 0,
      "outputs": []
    }
  ]
}